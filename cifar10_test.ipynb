{
 "cells": [
  {
   "cell_type": "code",
   "execution_count": null,
   "metadata": {},
   "outputs": [],
   "source": [
    "import jax\n",
    "from flax import linen as nn\n",
    "import jax.numpy as jnp\n",
    "import optax\n",
    "from flaxmodels import ResNet18\n",
    "from typing import Callable\n",
    "from tensorflow\n",
    "\n",
    "from optimizers import SGD\n",
    "from dataloader import get_cifar10_dataloaders, tf_to_jax"
   ]
  },
  {
   "cell_type": "code",
   "execution_count": null,
   "metadata": {},
   "outputs": [],
   "source": [
    "def init_model(init_batch: tuple[jnp.ndarray, jnp.ndarray], dropout_rate: float = 0.0) -> tuple[nn.Module, dict]:\n",
    "    model = ResNet18(output=\"logits\",\n",
    "                     pretrained=False,\n",
    "                     num_classes=10,\n",
    "                     dropout_rate=dropout_rate)\n",
    "    params = model.init(init_batch)[\"params\"]\n",
    "    return model, params"
   ]
  },
  {
   "cell_type": "code",
   "execution_count": null,
   "metadata": {},
   "outputs": [],
   "source": [
    "def get_cross_entropy_loss_fn(model: nn.Module) -> Callable:\n",
    "    def loss_fn(params: dict, batch: tuple[jnp.ndarray, jnp.ndarray]) -> jnp.ndarray:\n",
    "        images, labels = batch\n",
    "        logits = model.apply(params, images)\n",
    "        return optax.softmax_cross_entropy_with_integer_labels(logits, labels).mean()\n",
    "\n",
    "    return loss_fn"
   ]
  },
  {
   "cell_type": "code",
   "execution_count": null,
   "metadata": {},
   "outputs": [],
   "source": [
    "def get_compute_accuracy_fn(model: nn.Module) -> Callable:\n",
    "    def compute_accuracy(params: dict, batch: tuple[jnp.ndarray, jnp.ndarray]) -> jnp.ndarray:\n",
    "        images, labels = batch\n",
    "        logits = model.apply(params, images)\n",
    "        return jnp.mean(logits.argmax(axis=1) == labels)\n",
    "    return compute_accuracy"
   ]
  },
  {
   "cell_type": "code",
   "execution_count": null,
   "metadata": {},
   "outputs": [],
   "source": [
    "def train(params: dict,\n",
    "          optimizer: SGD,\n",
    "          train_loader: DataLoader,\n",
    "          val_loader: DataLoader,\n",
    "          num_epochs: int,\n",
    "\t\t  loss_fn,\n",
    "\t\t  compute_accuracy) -> dict:\n",
    "\tfor epoch in range(num_epochs):\n",
    "\t\tfor batch in train_loader:\n",
    "\t\t\tjax_batch = tf_to_jax(batch)\n",
    "\t\t\tparams, opt_state = optimizer.update(params, jax_batch, opt_state)\n",
    "\t\t\n",
    "\t\tval_acc, val_loss, val_count = 0, 0, 0\n",
    "\t\tfor batch in val_loader:\n",
    "\t\t\tjax_batch = tf_to_jax(batch)\n",
    "\t\t\tval_loss += loss_fn(params, jax_batch)\n",
    "\t\t\tacc = compute_accuracy(params, jax_batch)\n",
    "\t\t\tval_acc += acc * batch[0].shape[0]\n",
    "\t\t\tval_count += batch[0].shape[0]\n",
    "\n",
    "\t\tprint(f\"Epoch {epoch + 1}: val_acc={val_acc / val_count}, val_loss={val_loss / val_count}\")\n",
    "    "
   ]
  },
  {
   "cell_type": "code",
   "execution_count": null,
   "metadata": {},
   "outputs": [],
   "source": [
    "rng = jax.random.PRNGKey(42)\n",
    "\n",
    "\n",
    "train_loader, val_loader, _ = get_cifar10_dataloaders(batch_size=128)\n",
    "init_batch = next(iter(train_loader))\n",
    "resnet18, params = init_model(init_batch, dropout_rate=0.0)\n",
    "\n",
    "loss_fn = jax.jit(get_cross_entropy_loss_fn(resnet18))\n",
    "compute_accuracy = jax.jit(get_compute_accuracy_fn(resnet18))\n",
    "\n",
    "optimizer = SGD(loss_fn, lr=1e-4)\n",
    "\n",
    "train(params=params,\n",
    "      optimizer=optimizer,\n",
    "      train_loader=train_loader,\n",
    "      val_loader=val_loader,\n",
    "      num_epochs=10,\n",
    "      loss_fn=loss_fn,\n",
    "      compute_accuracy=compute_accuracy)"
   ]
  }
 ],
 "metadata": {
  "kernelspec": {
   "display_name": ".venv",
   "language": "python",
   "name": "python3"
  },
  "language_info": {
   "codemirror_mode": {
    "name": "ipython",
    "version": 3
   },
   "file_extension": ".py",
   "mimetype": "text/x-python",
   "name": "python",
   "nbconvert_exporter": "python",
   "pygments_lexer": "ipython3",
   "version": "3.12.10"
  }
 },
 "nbformat": 4,
 "nbformat_minor": 2
}
